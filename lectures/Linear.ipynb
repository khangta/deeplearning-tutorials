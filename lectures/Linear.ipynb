{
 "cells": [
  {
   "cell_type": "markdown",
   "metadata": {},
   "source": [
    "Chào các bạn hôm nay chúng ta sẽ nói về linear models, tức là shallow learning. \n",
    "\n",
    "Nếu theo dõi các bài viết của mình thường xuyên, chắc các bạn sẽ nghe chán chê câu: model machine learning có thể được xem như một hàm số $f_{\\theta}$ với tham số $\\theta$. Hôm nay mình lại nhắc lại, không phải vì già lẩm cẩm, mà với dụng ý tốt. Bắt đầu từ bài này, chúng ta sẽ mổ xẻ xem bên trong hàm $f_{\\theta}$ này thực chất là cái gì?\n",
    "\n",
    "Thỉnh thoảng, để gọn nhẹ, mình sẽ bỏ $\\theta$ đi trong kí hiệu nhé."
   ]
  },
  {
   "cell_type": "markdown",
   "metadata": {},
   "source": [
    "### Linear function\n",
    "\n",
    "Model $f$ được gọi là linear nếu $f$ là một linear function (hàm tuyến tính). Linear function là gì? Các hàm số tuyến tính $f(x) = ax + b$ là một ví dụ của linear function. Tuy nhiên, linear function tổng quát hơn thế.\n",
    "\n",
    "Ở đây, mình không đưa ra định nghĩa chính xác về linear function mà đưa ra một định nghĩa để nhận diện linear function trong khuôn khổ nghiên cứu machine learning. \n",
    "\n",
    "Tổng quát linear function có dạng như sau:\n",
    "\n",
    "$$linear(x; W, b) = Wx + b$$ với $x$, $b$ là vector, $W$ là một matrix (ma trận). Trong trường hợp này, $x$ là variable (biến số) của hàm, còn $W$ và $b$ là parameter (tham số).\n",
    "\n",
    "Cách viết $Wx$ tức là phép nhân matrix $W$ với vector $x$. Phép nhân matrix với vector là một trường hợp đặc biệt của phép nhân hai matrix. Các bạn không biết hoặc quên về phép nhân matrix thì không phải quá lo lắng. Ở đây, các bạn chỉ cần hiểu:\n",
    "1. Matrix là một bảng số hình chữ nhật có $m$ dòng và $n$ cột. \n",
    "2. Vector là một matrix chỉ có 1 cột.  \n",
    "\n",
    "Nếu matrix có $m$ dòng và $n$ cột, ta nói là matrix có size là $(m, n)$. Nếu vector có shape là $(n, 1)$, ta cũng gọi đây là vector n chiều. \n",
    "\n",
    "Mình sẽ không nói kỹ phép nhân matrix được thực hiện cụ thể ra sao. Mình muốn chú ý đến size của các phần tử trong phép nhân ma trận. \n",
    "\n",
    "Không phải hai matrix $A$ và $B$ nào cũng nhân được với nhau. Để phép nhân $AB$ được hợp lệ thì số cột của $A$ phải bằng số hàng của $B$. Nói cách khác, nếu $A$ có size là $(m, n)$, $B$ phải có size là $(n, k)$. Kết quả của phép nhân $C = AB$ là một matrix có size $(m, k)$. \n",
    "\n",
    "Cũng không phải hai vector nào cũng cộng được cho nhau. Hai vector cộng được cho nhau nếu chúng cùng size. \n",
    "\n",
    "**Tóm lại, nếu $x$ là vector $n$ chiều, muốn linear function $linear(x) = Wx + b$ hợp lệ**:\n",
    "\n",
    "**1. $W$ có size $(m, n)$.**\n",
    "\n",
    "**2. $b$ có size $(n, 1)$.**"
   ]
  },
  {
   "cell_type": "markdown",
   "metadata": {},
   "source": [
    "### Demo\n",
    "\n",
    "Sau đây mình sẽ demo phép nhân ma trận trong PyTorch:"
   ]
  },
  {
   "cell_type": "code",
   "execution_count": 73,
   "metadata": {
    "collapsed": false
   },
   "outputs": [
    {
     "name": "stdout",
     "output_type": "stream",
     "text": [
      "torch.Size([5, 1])\n"
     ]
    }
   ],
   "source": [
    "import torch\n",
    "\n",
    "def create_matrix(m, n=1):\n",
    "    res = torch.rand(m, n)\n",
    "    print res.size()\n",
    "    return res\n",
    "\n",
    "# Tạo ra vector có size (5, 1)\n",
    "x = create_matrix(5)\n"
   ]
  },
  {
   "cell_type": "code",
   "execution_count": 74,
   "metadata": {
    "collapsed": false
   },
   "outputs": [
    {
     "name": "stdout",
     "output_type": "stream",
     "text": [
      "torch.Size([5, 3])\n"
     ]
    }
   ],
   "source": [
    "# Tạo matrix U có size (5, 3)\n",
    "U = create_matrix(5, 3)"
   ]
  },
  {
   "cell_type": "code",
   "execution_count": 75,
   "metadata": {
    "collapsed": false
   },
   "outputs": [
    {
     "name": "stdout",
     "output_type": "stream",
     "text": [
      "torch.Size([3, 5])\n"
     ]
    }
   ],
   "source": [
    "# Tạo matrix W có size (3, 5)\n",
    "W = create_matrix(3, 5)"
   ]
  },
  {
   "cell_type": "code",
   "execution_count": 76,
   "metadata": {
    "collapsed": false
   },
   "outputs": [
    {
     "ename": "RuntimeError",
     "evalue": "size mismatch, m1: [5 x 3], m2: [5 x 1] at /py/conda-bld/pytorch_1490893784944/work/torch/lib/TH/generic/THTensorMath.c:1229",
     "output_type": "error",
     "traceback": [
      "\u001b[0;31m---------------------------------------------------------------------------\u001b[0m",
      "\u001b[0;31mRuntimeError\u001b[0m                              Traceback (most recent call last)",
      "\u001b[0;32m<ipython-input-76-ca7359abb238>\u001b[0m in \u001b[0;36m<module>\u001b[0;34m()\u001b[0m\n\u001b[1;32m      1\u001b[0m \u001b[0;31m# Thử phép nhân không hợp lệ Ux.\u001b[0m\u001b[0;34m\u001b[0m\u001b[0;34m\u001b[0m\u001b[0m\n\u001b[0;32m----> 2\u001b[0;31m \u001b[0;32mprint\u001b[0m \u001b[0mU\u001b[0m\u001b[0;34m.\u001b[0m\u001b[0mmm\u001b[0m\u001b[0;34m(\u001b[0m\u001b[0mx\u001b[0m\u001b[0;34m)\u001b[0m\u001b[0;34m\u001b[0m\u001b[0m\n\u001b[0m",
      "\u001b[0;31mRuntimeError\u001b[0m: size mismatch, m1: [5 x 3], m2: [5 x 1] at /py/conda-bld/pytorch_1490893784944/work/torch/lib/TH/generic/THTensorMath.c:1229"
     ]
    }
   ],
   "source": [
    "# Thử phép nhân không hợp lệ Ux. \n",
    "print U.mm(x)"
   ]
  },
  {
   "cell_type": "code",
   "execution_count": 77,
   "metadata": {
    "collapsed": false
   },
   "outputs": [
    {
     "name": "stdout",
     "output_type": "stream",
     "text": [
      "\n",
      " 0.9410\n",
      " 1.0138\n",
      " 0.8932\n",
      "[torch.FloatTensor of size 3x1]\n",
      "\n"
     ]
    }
   ],
   "source": [
    "# Thử phép nhân hợp lệ W * x, kết quả là một vector có size (3,1) (3 là số hàng của W, 1 là số cột của x)\n",
    "print W.mm(x)"
   ]
  },
  {
   "cell_type": "markdown",
   "metadata": {},
   "source": [
    "Khi $W$ là một ma trận vuông ($m = n$) thì bạn có thể dùng nó để xoay, tịnh tiến, chiếu, lấy đối xứng,... của một vector. \n"
   ]
  },
  {
   "cell_type": "code",
   "execution_count": 145,
   "metadata": {
    "collapsed": false
   },
   "outputs": [
    {
     "data": {
      "image/png": "[encoded data removed]",
      "text/plain": [
       "<matplotlib.figure.Figure at 0x7f3186b9ea90>"
      ]
     },
     "metadata": {},
     "output_type": "display_data"
    }
   ],
   "source": [
    "import math\n",
    "import numpy as np\n",
    "import matplotlib.pyplot as plt\n",
    "\n",
    "def plot_vector(soa):\n",
    "    X, Y, U, V = soa\n",
    "    plt.figure()\n",
    "    ax = plt.gca()\n",
    "    ax.quiver(X,Y, U,V, np.arctan2(U, V), angles='xy', scale_units='xy', scale=1)\n",
    "    plt.xticks(range(-4,5))\n",
    "    plt.yticks(range(-1,5))\n",
    "    plt.grid()\n",
    "    plt.draw()\n",
    "    plt.show()\n",
    "    \n",
    "def rotate(x, degree):\n",
    "    r = math.radians(degree)\n",
    "    W = torch.Tensor([[math.cos(r), -math.sin(r)], [math.sin(r), math.cos(r)]])\n",
    "    return W.mm(x)\n",
    "\n",
    "def projection(x):\n",
    "    W = torch.Tensor([[1, 0], [0, 0]])\n",
    "    return W.mm(x)\n",
    "\n",
    "def tolist(x):\n",
    "    return x.squeeze(1).tolist()\n",
    "\n",
    "# Tạo vector (2, 3)\n",
    "x = torch.Tensor([[2], [3]])\n",
    "# Xoay ngược kim đồng hồ 60 độ.\n",
    "y = rotate(x, 60)\n",
    "# Project lên trục x.\n",
    "z = projection(x)\n",
    "\n",
    "all_vecs = zip(*[tolist(x), tolist(y), tolist(z)])\n",
    "all_vecs = [(0, 0, 0), (0, 0, 0)] + all_vecs\n",
    "plot_vector(all_vecs)\n",
    "\n"
   ]
  },
  {
   "cell_type": "markdown",
   "metadata": {},
   "source": [
    "### Linear model\n",
    "\n",
    "Trường hợp thú vị hơn là khi $W$ không phải ma trận vuông ($m \\neq n$). Khi đó, input của $linear(x)$ là vector $x$ có $n$ và output là một vector có $m$ chiều. Vậy công dụng của linear function là chuyển một vector từ $n$ chiều sang $m$ chiều. Công dụng này rất hữu ích cho ML nói chung và đặc biệt là deep learning. \n",
    "\n",
    "Tại sao bạn phải đổi chiều của một vector? Đầu tiên ta nói về linear models trước rồi sẽ nói về deep models sau. \n",
    "\n",
    "Giả sử bạn muốn dự đoán xem hôm nay trời có mưa hay không bằng một model $linear(x)$. Vector n chiều $x$ của bạn sẽ là dữ liệu vào, biểu diễn $n$ **feature**, là các thông số cần thiết để đưa ra dự đoán (ví dụ nhiệt độ, độ ẩm, thể tích mây, lượng mưa trong tháng vừa rồi, ...). \n",
    "\n",
    "Bạn quy ước rằng dự đoán về việc trời có mưa hay không được thể hiện bằng một vector 2 chiều. Chiều thứ nhất là độ chắc chắn về trời mưa, chiều thứ hai là độ chắc chắn về trời không mưa. Bạn sẽ dự đoán theo chiều nào có giá trị lớn hơn. Ví dụ, nếu $(12, 3)$ tức là trời mưa, còn $(-5. 0)$ tức là trời không mưa. \n",
    "\n",
    "Để tạo ra vector 2 chiều này, bạn cần một linear function đưa vector $x$ có n chiều thành vector 2 chiều. Vì thế bạn sử dụng một model $linear(x) = Wx + b$ với W là matrix $(2, n)$ và b là vector $(2, 1)$. "
   ]
  },
  {
   "cell_type": "code",
   "execution_count": null,
   "metadata": {
    "collapsed": true
   },
   "outputs": [],
   "source": []
  }
 ],
 "metadata": {
  "kernelspec": {
   "display_name": "Python 2",
   "language": "python",
   "name": "python2"
  },
  "language_info": {
   "codemirror_mode": {
    "name": "ipython",
    "version": 2
   },
   "file_extension": ".py",
   "mimetype": "text/x-python",
   "name": "python",
   "nbconvert_exporter": "python",
   "pygments_lexer": "ipython2",
   "version": "2.7.13"
  }
 },
 "nbformat": 4,
 "nbformat_minor": 2
}
